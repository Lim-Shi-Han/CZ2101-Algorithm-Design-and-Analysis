{
 "cells": [
  {
   "cell_type": "markdown",
   "metadata": {},
   "source": [
    "# Example Class 2\n",
    "## Dijkstra Algorithm\n",
    "\n",
    "#### (b) Suppose the input graph G = (V, E) is stored in an array of adjacency lists and we use a minimizing heap for the priority queue. Implement the Dijkstra’s algorithm using this setting and analyze its time complexity with respect to |V| and |E| both theoretically and empirically. "
   ]
  },
  {
   "cell_type": "code",
   "execution_count": 1,
   "metadata": {},
   "outputs": [
    {
     "name": "stdout",
     "output_type": "stream",
     "text": [
      "[[[4, 1], [8, 7]], [[8, 2], [11, 7]], [[7, 3], [2, 8], [4, 5]], [[9, 4], [14, 5]], [[10, 5]], [[2, 6]], [[1, 7], [6, 8]], [[7, 8]], []]\n"
     ]
    },
    {
     "data": {
      "text/plain": [
       "'\\nadjList = [[[4, 1], [8, 7]], \\n           [[4, 0], [8, 2], [11, 7]], \\n           [[8, 1], [7, 3], [4, 5], [2, 8]], \\n           [[7, 2], [9, 4], [14, 5]],\\n           [[9, 3], [10, 5]],\\n           [[4, 2], [14, 3], [10, 4], [2, 6]],\\n           [[2, 5], [1, 7], [6, 8]],\\n           [[8, 0], [11, 1], [1, 6], [7, 8]],\\n           [[2, 2], [6, 6], [7, 7]]] #format: [distance, adjVertex]\\n'"
      ]
     },
     "execution_count": 1,
     "metadata": {},
     "output_type": "execute_result"
    }
   ],
   "source": [
    "import heapq\n",
    "import time\n",
    "\n",
    "#Build list\n",
    "\n",
    "length = 9\n",
    "\n",
    "adjList = [[] for i in range(length)]\n",
    "\n",
    "def addEdge(adjList, src, destination, weight):\n",
    "    adjList[src].append([weight, destination])\n",
    "\n",
    "\n",
    "addEdge(adjList, 0, 1, 4)\n",
    "addEdge(adjList, 0, 7, 8)\n",
    "addEdge(adjList, 1, 2, 8)\n",
    "addEdge(adjList, 1, 7, 11)\n",
    "addEdge(adjList, 2, 3, 7)\n",
    "addEdge(adjList, 2, 8, 2)\n",
    "addEdge(adjList, 2, 5, 4)\n",
    "addEdge(adjList, 3, 4, 9)\n",
    "addEdge(adjList, 3, 5, 14)\n",
    "addEdge(adjList, 4, 5, 10)\n",
    "addEdge(adjList, 5, 6, 2)\n",
    "addEdge(adjList, 6, 7, 1)\n",
    "addEdge(adjList, 6, 8, 6)\n",
    "addEdge(adjList, 7, 8, 7)\n",
    "\n",
    "\n",
    "\n",
    "print(adjList)\n",
    "\n",
    "\"\"\"\n",
    "addEdge(adjList, 0, 1, 4)\n",
    "addEdge(adjList, 0, 7, 8)    \n",
    "\n",
    "addEdge(adjList, 1, 0, 4)\n",
    "addEdge(adjList, 1, 2, 8)\n",
    "addEdge(adjList, 1, 7, 11)\n",
    "\n",
    "addEdge(adjList, 2, 1, 8)\n",
    "addEdge(adjList, 2, 3, 7)\n",
    "addEdge(adjList, 2, 5, 4)\n",
    "addEdge(adjList, 2, 8, 2)\n",
    "\n",
    "addEdge(adjList, 3, 2, 7)\n",
    "addEdge(adjList, 3, 4, 9)\n",
    "addEdge(adjList, 3, 5, 14)\n",
    "\n",
    "addEdge(adjList, 4, 3, 9)\n",
    "addEdge(adjList, 4, 5, 10)\n",
    "\n",
    "addEdge(adjList, 5, 2, 4)\n",
    "addEdge(adjList, 5, 3, 14)\n",
    "addEdge(adjList, 5, 4, 10)\n",
    "addEdge(adjList, 5, 6, 2)\n",
    "\n",
    "addEdge(adjList, 6, 5, 2)\n",
    "addEdge(adjList, 6, 7, 1)\n",
    "addEdge(adjList, 6, 8, 6)\n",
    "\n",
    "addEdge(adjList, 7, 0, 8)\n",
    "addEdge(adjList, 7, 1, 11)\n",
    "addEdge(adjList, 7, 6, 1)\n",
    "addEdge(adjList, 7, 8, 7)\n",
    "\n",
    "addEdge(adjList, 8, 2, 2)\n",
    "addEdge(adjList, 8, 6, 6)\n",
    "addEdge(adjList, 8, 7, 7)\n",
    "\"\"\"\n",
    "       \n",
    "\"\"\"\n",
    "adjList = [[[4, 1], [8, 7]], \n",
    "           [[4, 0], [8, 2], [11, 7]], \n",
    "           [[8, 1], [7, 3], [4, 5], [2, 8]], \n",
    "           [[7, 2], [9, 4], [14, 5]],\n",
    "           [[9, 3], [10, 5]],\n",
    "           [[4, 2], [14, 3], [10, 4], [2, 6]],\n",
    "           [[2, 5], [1, 7], [6, 8]],\n",
    "           [[8, 0], [11, 1], [1, 6], [7, 8]],\n",
    "           [[2, 2], [6, 6], [7, 7]]] #format: [distance, adjVertex]\n",
    "\"\"\""
   ]
  },
  {
   "cell_type": "code",
   "execution_count": 2,
   "metadata": {},
   "outputs": [],
   "source": [
    "#Dijkstra algorithm\n",
    "def dijkstra(adjList):\n",
    "    \n",
    "    H = []\n",
    "    for i in range(len(adjList)):\n",
    "        H.append([float('inf'), i])\n",
    "    heapq.heapify(H)\n",
    "    \n",
    "    d = [float('inf') for i in range(len(adjList))] #set infinity for all distance from vertex to source\n",
    "    pi = [-1 for i in range(len(adjList))] #set -1(no predecessors) for all vertices\n",
    "    S = [0 for i in range(len(adjList))] #tracks the vertices that already have shortest paths determined\n",
    "    \n",
    "    H[0][0] = 0 #assume adjList[0][0] to be the source\n",
    "    d[0] = 0 \n",
    "    \n",
    "    while(len(H) != 0):\n",
    "        u = heapq.heappop(H) #remove first vertex from heap u[0] = distance, u[1] = index\n",
    "        S[u[1]] = 1 #mark vertex as determined\n",
    "        for i in adjList[u[1]]:\n",
    "            newDistance = u[0] + i[0] #i[0] = distance, i[1] = index\n",
    "            if (S[i[1]]==0 and d[i[1]]>newDistance): #if vertex not determined and newDistance shorter than original distance\n",
    "                for j in H:\n",
    "                    if(j[1] == i[1]):\n",
    "                        j[0] = newDistance #update distance in heap\n",
    "                d[i[1]] = newDistance #update distance in d\n",
    "                pi[i[1]] = u[1] #update predecessor vertex to u\n",
    "        heapq.heapify(H) #heapify\n",
    "\n",
    "    return d, pi"
   ]
  },
  {
   "cell_type": "code",
   "execution_count": 3,
   "metadata": {},
   "outputs": [],
   "source": [
    "def formNewList(d, pi):\n",
    "    newList = [[] for i in range(len(d))] #set matrix values to be zero by default\n",
    "    for i in range(len(pi)): #check the predecessor vertex for each vertex\n",
    "        if(pi[i] == -1): #special case for source vertex\n",
    "            continue\n",
    "        newList[pi[i]].append([d[i]-d[pi[i]], i]) #input distance between vertex and predecessor vertex in matrix\n",
    "    return newList"
   ]
  },
  {
   "cell_type": "code",
   "execution_count": 4,
   "metadata": {},
   "outputs": [
    {
     "name": "stdout",
     "output_type": "stream",
     "text": [
      "[0, 4, 12, 19, 28, 16, 18, 8, 14]\n",
      "[-1, 0, 1, 2, 3, 2, 5, 0, 2]\n",
      "[[[4, 1], [8, 7]], [[8, 2]], [[7, 3], [4, 5], [2, 8]], [[9, 4]], [], [[2, 6]], [], [], []]\n",
      "0.00011589999999728207\n"
     ]
    }
   ],
   "source": [
    "startTime = time.perf_counter()\n",
    "d, pi = dijkstra(adjList)\n",
    "endTime = time.perf_counter()\n",
    "newList = formNewList(d, pi)\n",
    "totalTime = endTime-startTime\n",
    "print(d)\n",
    "print(pi)\n",
    "print(newList)\n",
    "print(totalTime)"
   ]
  },
  {
   "cell_type": "code",
   "execution_count": null,
   "metadata": {},
   "outputs": [],
   "source": []
  }
 ],
 "metadata": {
  "kernelspec": {
   "display_name": "Python 3",
   "language": "python",
   "name": "python3"
  },
  "language_info": {
   "codemirror_mode": {
    "name": "ipython",
    "version": 3
   },
   "file_extension": ".py",
   "mimetype": "text/x-python",
   "name": "python",
   "nbconvert_exporter": "python",
   "pygments_lexer": "ipython3",
   "version": "3.8.5"
  }
 },
 "nbformat": 4,
 "nbformat_minor": 4
}
