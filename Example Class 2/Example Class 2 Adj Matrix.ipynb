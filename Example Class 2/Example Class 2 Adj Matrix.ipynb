{
 "cells": [
  {
   "cell_type": "markdown",
   "metadata": {},
   "source": [
    "# Example Class 2\n",
    "## Dijkstra Algorithm\n",
    "\n",
    "#### (a) Suppose the input graph G = (V, E) is stored in an adjacency matrix and we use an array for the priority queue. Implement the Dijkstra’s algorithm using this setting and analyze its time complexity with respect to |V| and |E| both theoretically and empirically."
   ]
  },
  {
   "cell_type": "code",
   "execution_count": 6,
   "metadata": {},
   "outputs": [
    {
     "name": "stdout",
     "output_type": "stream",
     "text": [
      "[[0, 4, 0, 0, 0, 0, 0, 8, 0], [4, 0, 8, 0, 0, 0, 0, 11, 0], [0, 8, 0, 7, 0, 4, 0, 0, 2], [0, 0, 7, 0, 9, 14, 0, 0, 0], [0, 0, 0, 9, 0, 10, 0, 0, 0], [0, 0, 4, 14, 10, 0, 2, 0, 0], [0, 0, 0, 0, 0, 2, 0, 1, 6], [8, 11, 0, 0, 0, 0, 1, 0, 7], [0, 0, 2, 0, 0, 0, 6, 7, 0]]\n"
     ]
    }
   ],
   "source": [
    "import time\n",
    "\n",
    "#Build matrix\n",
    "adjMatrix = [[0, 4, 0, 0, 0, 0, 0, 8, 0],\n",
    "             [4, 0, 8, 0, 0, 0, 0, 11, 0],\n",
    "             [0, 8, 0, 7, 0, 4, 0, 0, 2],\n",
    "             [0, 0, 7, 0, 9, 14, 0, 0, 0],\n",
    "             [0, 0, 0, 9, 0, 10, 0, 0, 0],\n",
    "             [0, 0, 4, 14, 10, 0, 2, 0, 0],\n",
    "             [0, 0, 0, 0, 0, 2, 0, 1, 6 ],\n",
    "             [8, 11, 0, 0, 0, 0, 1, 0, 7],\n",
    "             [0, 0, 2, 0, 0, 0, 6, 7, 0]]\n",
    "\n",
    "print(adjMatrix)"
   ]
  },
  {
   "cell_type": "code",
   "execution_count": 7,
   "metadata": {},
   "outputs": [],
   "source": [
    "#Dijkstra algorithm\n",
    "def dijkstra(adjMatrix):\n",
    "    rows = len(adjMatrix)\n",
    "    cols = rows\n",
    "    Q = [i for i in range(rows)] #insert all vertices into priority queue\n",
    "    d = [float('inf') for i in range(rows)] #set infinity for all distance from vertex to source\n",
    "    pi = [-1 for i in range(rows)] #set -1(no predecessors) for all vertices\n",
    "    S = [0 for i in range(rows)] #tracks the vertices that already have shortest paths determined\n",
    "    d[0] = 0 #assume adjMatrix[0][0] to be the source\n",
    "        \n",
    "    while(len(Q) != 0):\n",
    "        u = Q.pop(0) #remove first vertex from priority queue\n",
    "        S[u] = 1 #mark vertex as determined\n",
    "        for i in range(cols): \n",
    "            if(adjMatrix[u][i] != 0): #check for vertices adjacent to vertex \n",
    "                newDistance = d[u] + adjMatrix[u][i] \n",
    "                if (S[i]==0 and d[i]>newDistance): #if vertex not determined yet and if newDistance is shorter than original distance\n",
    "                    Q.remove(i) #remove adjacent node from Q\n",
    "                    d[i] = newDistance #update distance from source to vertex\n",
    "                    pi[i] = u #update predecessor vertex to u\n",
    "                    for j in range(len(Q)): \n",
    "                        if(newDistance < d[Q[j]]): #compare newDistance with distance array to decide position to insert\n",
    "                            Q.insert(j, i)\n",
    "                            break\n",
    "                        if(j == len(Q)-1):\n",
    "                            Q.insert(len(Q), i)\n",
    "    return d, pi"
   ]
  },
  {
   "cell_type": "code",
   "execution_count": 8,
   "metadata": {},
   "outputs": [],
   "source": [
    "def formNewMatrix(d, pi):\n",
    "    newMatrix = [[0 for i in range(len(d))] for j in range(len(d))] #set matrix values to be zero by default\n",
    "    for i in range(len(pi)): #check the predecessor vertex for each vertex\n",
    "        if(pi[i] == -1): #special case for source vertex\n",
    "            continue\n",
    "        newMatrix[pi[i]][i] = d[i] - d[pi[i]] #input distance between vertex and predecessor vertex in matrix\n",
    "    return newMatrix"
   ]
  },
  {
   "cell_type": "code",
   "execution_count": 10,
   "metadata": {},
   "outputs": [
    {
     "name": "stdout",
     "output_type": "stream",
     "text": [
      "[0, 4, 12, 19, 21, 11, 9, 8, 14]\n",
      "[-1, 0, 1, 2, 5, 6, 7, 0, 2]\n",
      "[[0, 4, 0, 0, 0, 0, 0, 8, 0], [0, 0, 8, 0, 0, 0, 0, 0, 0], [0, 0, 0, 7, 0, 0, 0, 0, 2], [0, 0, 0, 0, 0, 0, 0, 0, 0], [0, 0, 0, 0, 0, 0, 0, 0, 0], [0, 0, 0, 0, 10, 0, 0, 0, 0], [0, 0, 0, 0, 0, 2, 0, 0, 0], [0, 0, 0, 0, 0, 0, 1, 0, 0], [0, 0, 0, 0, 0, 0, 0, 0, 0]]\n",
      "6.989999999973406e-05\n"
     ]
    }
   ],
   "source": [
    "startTime = time.perf_counter()\n",
    "d, pi = dijkstra(adjMatrix)\n",
    "endTime = time.perf_counter()\n",
    "newMatrix = formNewMatrix(d, pi)\n",
    "totalTime = endTime-startTime\n",
    "\n",
    "print(d)\n",
    "print(pi)\n",
    "print(newMatrix)\n",
    "print(totalTime)"
   ]
  },
  {
   "cell_type": "code",
   "execution_count": null,
   "metadata": {},
   "outputs": [],
   "source": []
  }
 ],
 "metadata": {
  "kernelspec": {
   "display_name": "Python 3",
   "language": "python",
   "name": "python3"
  },
  "language_info": {
   "codemirror_mode": {
    "name": "ipython",
    "version": 3
   },
   "file_extension": ".py",
   "mimetype": "text/x-python",
   "name": "python",
   "nbconvert_exporter": "python",
   "pygments_lexer": "ipython3",
   "version": "3.8.5"
  }
 },
 "nbformat": 4,
 "nbformat_minor": 4
}
